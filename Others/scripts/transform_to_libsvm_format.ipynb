{
 "cells": [
  {
   "cell_type": "code",
   "execution_count": 2,
   "metadata": {
    "collapsed": true
   },
   "outputs": [],
   "source": [
    "import pandas as pd\n",
    "import numpy as np\n",
    "from sklearn.feature_extraction.text import TfidfVectorizer\n",
    "from nltk import stem\n",
    "from nltk.corpus import stopwords\n",
    "import string\n",
    "from nltk import *\n",
    "from six import u"
   ]
  },
  {
   "cell_type": "code",
   "execution_count": null,
   "metadata": {
    "collapsed": true
   },
   "outputs": [],
   "source": [
    "data = pd.read_csv('Movie_Summary.csv', encoding='utf-8')"
   ]
  },
  {
   "cell_type": "code",
   "execution_count": null,
   "metadata": {
    "collapsed": true
   },
   "outputs": [],
   "source": [
    "def preprocess(text):\n",
    "# Remove punctuation, stopword and then stemmering\n",
    "    stop = set(stopwords.words(\"english\"))\n",
    "    stemmer = stem.PorterStemmer()\n",
    "    punctuation = set(string.punctuation)\n",
    "\n",
    "\n",
    "    doc = [stemmer.stem(word) for word in word_tokenize(text) if (word not in punctuation) and (word not in stop)]\n",
    "\n",
    "    doc = ' '.join(w for w in doc)\n",
    "    return doc"
   ]
  },
  {
   "cell_type": "code",
   "execution_count": null,
   "metadata": {
    "collapsed": true
   },
   "outputs": [],
   "source": [
    "data[\"Summary\"] = data[\"Summary\"].apply(preprocess)\n",
    "summaries = data['Summary'].as_matrix()\n",
    "tfidfVect = TfidfVectorizer()\n",
    "tfidf = tfidfVect.fit_transform(summaries)"
   ]
  },
  {
   "cell_type": "markdown",
   "metadata": {},
   "source": [
    "# TODO METTRE LA TRANSFORMATION DES LABELS"
   ]
  },
  {
   "cell_type": "code",
   "execution_count": null,
   "metadata": {
    "collapsed": true
   },
   "outputs": [],
   "source": [
    "X = tfidf"
   ]
  },
  {
   "cell_type": "code",
   "execution_count": null,
   "metadata": {
    "collapsed": true
   },
   "outputs": [],
   "source": [
    "def _dump_svmlight(X, f):\n",
    "    X_is_sp = int(hasattr(X, \"tocsr\"))\n",
    "\n",
    "    if X.dtype.kind == 'i':\n",
    "        value_pattern = u(\"%d:%.4d\")\n",
    "    else:\n",
    "        value_pattern = u(\"%d:%d\")\n",
    "\n",
    "    line_pattern = u(\"%s\")\n",
    "\n",
    "    line_pattern += u(\" %s\\n\")\n",
    "\n",
    "    for i in range(X.shape[0]):\n",
    "        if X_is_sp:\n",
    "            span = slice(X.indptr[i], X.indptr[i + 1])\n",
    "            row = zip(X.indices[span], X.data[span])\n",
    "        else:\n",
    "            nz = X[i] != 0\n",
    "            row = zip(np.where(nz)[0], X[i, nz])\n",
    "\n",
    "        s = \" \".join(value_pattern % (j, int(x*9999)) for j, x in row)\n",
    "\n",
    "\n",
    "        f.write((s+\"\\n\").encode('ascii'))"
   ]
  },
  {
   "cell_type": "code",
   "execution_count": null,
   "metadata": {
    "collapsed": true
   },
   "outputs": [],
   "source": [
    "f = 'movies.data'\n",
    "with open(f, \"wb\") as f:\n",
    "    _dump_svmlight(X, f)"
   ]
  }
 ],
 "metadata": {
  "anaconda-cloud": {},
  "kernelspec": {
   "display_name": "Python [conda env:py2]",
   "language": "python",
   "name": "conda-env-py2-py"
  },
  "language_info": {
   "codemirror_mode": {
    "name": "ipython",
    "version": 2
   },
   "file_extension": ".py",
   "mimetype": "text/x-python",
   "name": "python",
   "nbconvert_exporter": "python",
   "pygments_lexer": "ipython2",
   "version": "2.7.12"
  }
 },
 "nbformat": 4,
 "nbformat_minor": 1
}
