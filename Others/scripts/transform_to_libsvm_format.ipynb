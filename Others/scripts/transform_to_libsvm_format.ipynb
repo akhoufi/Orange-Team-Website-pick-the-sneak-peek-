{
 "cells": [
  {
   "cell_type": "code",
   "execution_count": 2,
   "metadata": {
    "collapsed": true
   },
   "outputs": [],
   "source": [
    "import pandas as pd\n",
    "import numpy as np\n",
    "from sklearn.feature_extraction.text import TfidfVectorizer\n",
    "from nltk import stem\n",
    "from nltk.corpus import stopwords\n",
    "import string\n",
    "from nltk import *\n",
    "from six import u"
   ]
  },
  {
   "cell_type": "code",
   "execution_count": null,
   "metadata": {
    "collapsed": true
   },
   "outputs": [],
   "source": [
    "data = pd.read_csv('Movie_Summary.csv', encoding='utf-8')"
   ]
  },
  {
   "cell_type": "code",
   "execution_count": null,
   "metadata": {
    "collapsed": true
   },
   "outputs": [],
   "source": [
    "def preprocess(text):\n",
    "# Remove punctuation, stopword and then stemmering\n",
    "    stop = set(stopwords.words(\"english\"))\n",
    "    stemmer = stem.PorterStemmer()\n",
    "    punctuation = set(string.punctuation)\n",
    "\n",
    "\n",
    "    doc = [stemmer.stem(word) for word in word_tokenize(text) if (word not in punctuation) and (word not in stop)]\n",
    "\n",
    "    doc = ' '.join(w for w in doc)\n",
    "    return doc"
   ]
  },
  {
   "cell_type": "code",
   "execution_count": null,
   "metadata": {
    "collapsed": true
   },
   "outputs": [],
   "source": [
    "data[\"Summary\"] = data[\"Summary\"].apply(preprocess)\n",
    "summaries = data['Summary'].as_matrix()\n",
    "tfidfVect = TfidfVectorizer()\n",
    "tfidf = tfidfVect.fit_transform(summaries)"
   ]
  },
  {
   "cell_type": "markdown",
   "metadata": {},
   "source": [
    "# TODO METTRE "
   ]
  },
  {
   "cell_type": "code",
   "execution_count": null,
   "metadata": {
    "collapsed": true
   },
   "outputs": [],
   "source": []
  }
 ],
 "metadata": {
  "anaconda-cloud": {},
  "kernelspec": {
   "display_name": "Python [conda env:py2]",
   "language": "python",
   "name": "conda-env-py2-py"
  },
  "language_info": {
   "codemirror_mode": {
    "name": "ipython",
    "version": 2
   },
   "file_extension": ".py",
   "mimetype": "text/x-python",
   "name": "python",
   "nbconvert_exporter": "python",
   "pygments_lexer": "ipython2",
   "version": "2.7.12"
  }
 },
 "nbformat": 4,
 "nbformat_minor": 1
}
